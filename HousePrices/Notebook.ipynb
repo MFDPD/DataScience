{
 "cells": [
  {
   "cell_type": "markdown",
   "id": "9055b228",
   "metadata": {},
   "source": [
    "# Prediction of Housing Prices\n",
    "The aim of this excercise is to predict the housing prices taking into account different characteristics of houses."
   ]
  },
  {
   "cell_type": "markdown",
   "id": "004ada90",
   "metadata": {},
   "source": [
    "## Packages"
   ]
  },
  {
   "cell_type": "code",
   "execution_count": 2,
   "id": "6681a5ff",
   "metadata": {},
   "outputs": [],
   "source": [
    "import pandas as pd\n",
    "import matplotlib.pyplot as plt\n",
    "import seaborn as sns\n",
    "import numpy as np\n",
    "from scipy.stats import norm\n",
    "from sklearn.preprocessing import StandardScaler\n",
    "from scipy import stats\n",
    "import warnings\n",
    "warnings.filterwarnings('ignore')\n",
    "%matplotlib inline"
   ]
  },
  {
   "cell_type": "markdown",
   "id": "7807aefe",
   "metadata": {},
   "source": [
    "## Loading Data"
   ]
  },
  {
   "cell_type": "code",
   "execution_count": 3,
   "id": "ceaecf3f",
   "metadata": {},
   "outputs": [],
   "source": [
    "train = pd.read_csv(\"data/train.csv\")\n",
    "test = pd.read_csv(\"data/test.csv\")"
   ]
  },
  {
   "cell_type": "markdown",
   "id": "732f7229",
   "metadata": {
    "tags": []
   },
   "source": [
    "## Understanding the Data\n",
    "Firstly we can take a look at the different columns of data:Ç"
   ]
  },
  {
   "cell_type": "code",
   "execution_count": 4,
   "id": "47f2e15e",
   "metadata": {},
   "outputs": [
    {
     "data": {
      "text/plain": [
       "Index(['Id', 'MSSubClass', 'MSZoning', 'LotFrontage', 'LotArea', 'Street',\n",
       "       'Alley', 'LotShape', 'LandContour', 'Utilities', 'LotConfig',\n",
       "       'LandSlope', 'Neighborhood', 'Condition1', 'Condition2', 'BldgType',\n",
       "       'HouseStyle', 'OverallQual', 'OverallCond', 'YearBuilt', 'YearRemodAdd',\n",
       "       'RoofStyle', 'RoofMatl', 'Exterior1st', 'Exterior2nd', 'MasVnrType',\n",
       "       'MasVnrArea', 'ExterQual', 'ExterCond', 'Foundation', 'BsmtQual',\n",
       "       'BsmtCond', 'BsmtExposure', 'BsmtFinType1', 'BsmtFinSF1',\n",
       "       'BsmtFinType2', 'BsmtFinSF2', 'BsmtUnfSF', 'TotalBsmtSF', 'Heating',\n",
       "       'HeatingQC', 'CentralAir', 'Electrical', '1stFlrSF', '2ndFlrSF',\n",
       "       'LowQualFinSF', 'GrLivArea', 'BsmtFullBath', 'BsmtHalfBath', 'FullBath',\n",
       "       'HalfBath', 'BedroomAbvGr', 'KitchenAbvGr', 'KitchenQual',\n",
       "       'TotRmsAbvGrd', 'Functional', 'Fireplaces', 'FireplaceQu', 'GarageType',\n",
       "       'GarageYrBlt', 'GarageFinish', 'GarageCars', 'GarageArea', 'GarageQual',\n",
       "       'GarageCond', 'PavedDrive', 'WoodDeckSF', 'OpenPorchSF',\n",
       "       'EnclosedPorch', '3SsnPorch', 'ScreenPorch', 'PoolArea', 'PoolQC',\n",
       "       'Fence', 'MiscFeature', 'MiscVal', 'MoSold', 'YrSold', 'SaleType',\n",
       "       'SaleCondition', 'SalePrice'],\n",
       "      dtype='object')"
      ]
     },
     "execution_count": 4,
     "metadata": {},
     "output_type": "execute_result"
    }
   ],
   "source": [
    "train.columns"
   ]
  },
  {
   "cell_type": "markdown",
   "id": "d3262f55-d2f2-40c6-8595-30b80b51be64",
   "metadata": {},
   "source": [
    "We can now take a look at the behaviour of the distribution of the sale price since this is the variable we will be trying to predict:"
   ]
  },
  {
   "cell_type": "code",
   "execution_count": 10,
   "id": "5f0c1142-d39f-4684-bdaa-d68023e51a71",
   "metadata": {},
   "outputs": [
    {
     "data": {
      "text/plain": [
       "count      1460.000000\n",
       "mean     180921.195890\n",
       "std       79442.502883\n",
       "min       34900.000000\n",
       "25%      129975.000000\n",
       "50%      163000.000000\n",
       "75%      214000.000000\n",
       "max      755000.000000\n",
       "Name: SalePrice, dtype: float64"
      ]
     },
     "execution_count": 10,
     "metadata": {},
     "output_type": "execute_result"
    }
   ],
   "source": [
    "price = train[\"SalePrice\"]\n",
    "price.describe()"
   ]
  },
  {
   "cell_type": "code",
   "execution_count": 11,
   "id": "322ae559-e1a0-42e7-adb5-c9cb0948ce97",
   "metadata": {},
   "outputs": [
    {
     "data": {
      "text/plain": [
       "<AxesSubplot:xlabel='SalePrice', ylabel='Density'>"
      ]
     },
     "execution_count": 11,
     "metadata": {},
     "output_type": "execute_result"
    },
    {
     "data": {
      "image/png": "[encoded data removed]",
      "text/plain": [
       "<Figure size 640x480 with 1 Axes>"
      ]
     },
     "metadata": {},
     "output_type": "display_data"
    }
   ],
   "source": [
    "sns.distplot(price)"
   ]
  },
  {
   "cell_type": "markdown",
   "id": "be68254a-0c56-4c54-9219-b3cc2d72ae4c",
   "metadata": {},
   "source": [
    "We can observe a positive skewness (Positive assimetry), we might want to check the kurtosis too:"
   ]
  },
  {
   "cell_type": "code",
   "execution_count": 12,
   "id": "c216e862-3d9e-4092-93d3-7947e13e3a5c",
   "metadata": {},
   "outputs": [
    {
     "name": "stdout",
     "output_type": "stream",
     "text": [
      "Skewness: 1.8828757597682129\n",
      "Kurtosis: 6.536281860064529\n"
     ]
    }
   ],
   "source": [
    "print(f\"Skewness: {price.skew()}\")\n",
    "print(f\"Kurtosis: {price.kurt()}\")"
   ]
  },
  {
   "cell_type": "markdown",
   "id": "95bc344b-2154-479a-bc41-5d9a42d00ae1",
   "metadata": {},
   "source": [
    "A positive skewness tells us that lower sale prices are closer to the average price.\n"
   ]
  },
  {
   "cell_type": "code",
   "execution_count": null,
   "id": "d04da1c3-0845-45a8-9e17-0c617e90f95c",
   "metadata": {},
   "outputs": [],
   "source": []
  }
 ],
 "metadata": {
  "kernelspec": {
   "display_name": "Python 3 (ipykernel)",
   "language": "python",
   "name": "python3"
  },
  "language_info": {
   "codemirror_mode": {
    "name": "ipython",
    "version": 3
   },
   "file_extension": ".py",
   "mimetype": "text/x-python",
   "name": "python",
   "nbconvert_exporter": "python",
   "pygments_lexer": "ipython3",
   "version": "3.9.13"
  }
 },
 "nbformat": 4,
 "nbformat_minor": 5
}
